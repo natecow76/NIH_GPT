{
 "cells": [
  {
   "cell_type": "code",
   "execution_count": 6,
   "id": "dcdc245f",
   "metadata": {},
   "outputs": [],
   "source": [
    "import os\n",
    "from dotenv import load_dotenv\n",
    "load_dotenv()\n",
    "import openai\n",
    "openai.api_key = os.getenv(\"OPENAI_API_KEY\")"
   ]
  },
  {
   "cell_type": "markdown",
   "id": "16d055dd",
   "metadata": {},
   "source": [
    "# Remaining Sections\n",
    "- Biosketch: Contribution to Science (didn't see)\n",
    "- Biosketch: Research Support (needs to ingest other grants, then can summarize)\n",
    "- Equipment\n",
    "- Budget Justification (could start from input of each scientist name, time covered, expertise)\n",
    "- Research Plan (meaty)"
   ]
  },
  {
   "cell_type": "markdown",
   "id": "73a3015d",
   "metadata": {},
   "source": [
    "# Section: Project Summary"
   ]
  },
  {
   "cell_type": "code",
   "execution_count": 9,
   "id": "4a51a577",
   "metadata": {},
   "outputs": [
    {
     "name": "stdout",
     "output_type": "stream",
     "text": [
      "['To identify the IL12 driven, epigenetic dependent mechanism(s) mediated by the lysine methyltransferase MLL1, responsible for the normal differentiation, proliferation, and IFN-\\uf067 production by Th-1 cells', 'To determine if the impairment of T cell differentiation and reduced IFN-\\uf067 production found in post-septic Th1 cells is mechanistically dependent on aberrant MLL1 expression/function', 'To translationally investigate the IL-12 dependent Th-1 cell differentiation pathway in human post-septic T cells obtained during the course of a 1 year clinical follow up to sepsis by evaluating MLL1 expression, IFN-\\uf067 production, proliferative capacity of T cells and correlating these results with defined clinical parameters']\n"
     ]
    }
   ],
   "source": [
    "# inputs\n",
    "project_title = \"Monokine Gene Expression/Regulation in Lung Injury\"\n",
    "aims = []\n",
    "aims.append(\"To identify the IL12 driven, epigenetic dependent mechanism(s) mediated by the \\\n",
    "lysine methyltransferase MLL1, responsible for the normal differentiation, proliferation, \\\n",
    "and IFN- production by Th-1 cells\")\n",
    "aims.append(\"To determine if the impairment of T cell differentiation and reduced \\\n",
    "IFN- production found in post-septic Th1 cells is mechanistically dependent on aberrant MLL1 expression/function\")\n",
    "aims.append(\"To translationally investigate the IL-12 dependent Th-1 cell differentiation pathway in human post-septic T cells \\\n",
    "obtained during the course of a 1 year clinical follow up to sepsis by evaluating MLL1 expression, IFN- production, \\\n",
    "proliferative capacity of T cells and correlating these results with defined clinical parameters\")"
   ]
  },
  {
   "cell_type": "code",
   "execution_count": 16,
   "id": "db36d6a8",
   "metadata": {},
   "outputs": [
    {
     "name": "stdout",
     "output_type": "stream",
     "text": [
      "Aim 1: Identify the IL12-driven, epigenetically-dependent mechanisms mediated by the lysine methyltransferase MLL1, responsible for the normal differentiation, proliferation, and IFN-γ production by Th-1 cells.\n",
      "Aim 2: To determine if the impairment of T-cell differentiation and reduced IFN-γ production found in post-septic Th1 cells is mechanistically dependent on aberrant MLL1 expression/function.\n",
      "Aim 3: To investigate the IL-12-dependent Th-1 cell differentiation pathway in human post-septic T cells obtained during a one-year clinical follow-up to sepsis by evaluating MLL1 expression, IFN-γ production, and proliferative capacity of T cells, and correlating these results with defined clinical parameters.\n"
     ]
    }
   ],
   "source": [
    "# process inputs\n",
    "aim_string = \"\"\n",
    "for i in range(0,len(aims)):\n",
    "    response = openai.Completion.create(\n",
    "                engine=\"text-davinci-003\",\n",
    "                prompt=\"Correct the following phrase for any spelling or \\\n",
    "                        grammar mistakes, and if it is not there start the \\\n",
    "                        phrase with Aim %d:\\n\" % (i+1) + aims[i], \n",
    "                temperature=0,\n",
    "                max_tokens=256,\n",
    "                )\n",
    "    edited_aim = response['choices'][0]['text'].strip()\n",
    "    aim_string += edited_aim + \"\\n\"\n",
    "aim_string = aim_string.strip()"
   ]
  },
  {
   "cell_type": "code",
   "execution_count": 24,
   "id": "8feff03d",
   "metadata": {},
   "outputs": [
    {
     "name": "stdout",
     "output_type": "stream",
     "text": [
      "GPT prompt: \n",
      "A grant proposal is entitled: Monokine Gene Expression/Regulation in Lung Injury.  The aims of the project are:\n",
      " Aim 1: Identify the IL12-driven, epigenetically-dependent mechanisms mediated by the lysine methyltransferase MLL1, responsible for the normal differentiation, proliferation, and IFN-γ production by Th-1 cells.\n",
      "Aim 2: To determine if the impairment of T-cell differentiation and reduced IFN-γ production found in post-septic Th1 cells is mechanistically dependent on aberrant MLL1 expression/function.\n",
      "Aim 3: To investigate the IL-12-dependent Th-1 cell differentiation pathway in human post-septic T cells obtained during a one-year clinical follow-up to sepsis by evaluating MLL1 expression, IFN-γ production, and proliferative capacity of T cells, and correlating these results with defined clinical parameters.\n",
      " \n",
      " Write a summary of the project.  The first sentence should state a problem in the world.  The second sentence should state what scientific breakthrough could help solve that problem.  The next sentences should explain how the proposed scientific project could help achieve this scientific breakthrough.  The next sentences should explain what recent scientific progress has been made.  Do not use the title or project aims in the summary.\n",
      "\n",
      " Research summary: \n",
      "\n",
      "\n",
      "Sepsis is a life-threatening condition that affects millions of people worldwide. A scientific breakthrough in understanding the molecular mechanisms of sepsis could lead to improved treatments and better outcomes for patients. This project seeks to identify the IL12-driven, epigenetically-dependent mechanisms mediated by the lysine methyltransferase MLL1, which are responsible for the normal differentiation, proliferation, and IFN-γ production by Th-1 cells. The project will also investigate the IL-12-dependent Th-1 cell differentiation pathway in human post-septic T cells obtained during a one-year clinical follow-up to sepsis. Recent studies have shown that aberrant MLL1 expression/function may be responsible for the impairment of T-cell differentiation and reduced IFN-γ production found in post-septic Th1 cells.The project aims are:\n",
      " Aim 1: Identify the IL12-driven, epigenetically-dependent mechanisms mediated by the lysine methyltransferase MLL1, responsible for the normal differentiation, proliferation, and IFN-γ production by Th-1 cells.\n",
      "Aim 2: To determine if the impairment of T-cell differentiation and reduced IFN-γ production found in post-septic Th1 cells is mechanistically dependent on aberrant MLL1 expression/function.\n",
      "Aim 3: To investigate the IL-12-dependent Th-1 cell differentiation pathway in human post-septic T cells obtained during a one-year clinical follow-up to sepsis by evaluating MLL1 expression, IFN-γ production, and proliferative capacity of T cells, and correlating these results with defined clinical parameters.\n",
      "\n"
     ]
    }
   ],
   "source": [
    "# output\n",
    "gpt_prompt = \"A grant proposal is entitled: %(project_title)s.  The aims of the project are:\\n %(aim_string)s \\n \\\n",
    "Write a summary of the project.  The first sentence should state a problem in the world.  The second sentence should state \\\n",
    "what scientific breakthrough could help solve that problem.  The next sentences should explain how the proposed scientific \\\n",
    "project could help achieve this scientific breakthrough.  The next sentences should explain what recent scientific progress \\\n",
    "has been made.  Do not use the title or project aims in the summary.\" % locals()\n",
    "response = openai.Completion.create(\n",
    "        engine=\"text-davinci-003\",\n",
    "        prompt=gpt_prompt,\n",
    "        temperature=0,\n",
    "        max_tokens=1000,\n",
    "        #top_p=1.0,\n",
    "        #frequency_penalty=0.0,\n",
    "        #presence_penalty=0.0\n",
    "        )\n",
    "project_summary = response['choices'][0]['text']+\"The project aims are:\\n %(aim_string)s\" % locals()\n",
    "print(\"GPT prompt: \\n\" + gpt_prompt + \"\\n\\n Research summary: \\n\" + project_summary)\n"
   ]
  },
  {
   "cell_type": "markdown",
   "id": "95e86601",
   "metadata": {},
   "source": [
    "# Section: Project Narrative"
   ]
  },
  {
   "cell_type": "code",
   "execution_count": 30,
   "id": "640e035e",
   "metadata": {},
   "outputs": [
    {
     "name": "stdout",
     "output_type": "stream",
     "text": [
      "GPT prompt: \n",
      " A research proposal is entitled Monokine Gene Expression/Regulation in Lung Injury.  The aims of the research are: Aim 1: Identify the IL12-driven, epigenetically-dependent mechanisms mediated by the lysine methyltransferase MLL1, responsible for the normal differentiation, proliferation, and IFN-γ production by Th-1 cells.\n",
      "Aim 2: To determine if the impairment of T-cell differentiation and reduced IFN-γ production found in post-septic Th1 cells is mechanistically dependent on aberrant MLL1 expression/function.\n",
      "Aim 3: To investigate the IL-12-dependent Th-1 cell differentiation pathway in human post-septic T cells obtained during a one-year clinical follow-up to sepsis by evaluating MLL1 expression, IFN-γ production, and proliferative capacity of T cells, and correlating these results with defined clinical parameters.\n",
      " Describe the relevance of this research to public health in three sentences without using the phrase public health. Use a professional tone and make this understandable to a non-scientist \n",
      "\n",
      " Project narrative:\n",
      " .\n",
      "\n",
      "This research aims to understand the role of a specific gene, MLL1, in the development of lung injury. By understanding the mechanisms of how this gene affects the immune system, it could lead to the development of treatments to reduce the severity of lung injury. Additionally, this research could provide insight into how to better treat sepsis, a life-threatening condition that affects millions of people worldwide.\n"
     ]
    }
   ],
   "source": [
    "# outputs\n",
    "gpt_prompt = \"A research proposal is entitled %(project_title)s.  The aims of the research are: %(aim_string)s \\\n",
    "Describe the relevance of this research to public health in three sentences without using the phrase public health. \\\n",
    "Use a professional tone and make this understandable to a non-scientist\" % locals()\n",
    "\n",
    "response = openai.Completion.create(\n",
    "        engine=\"text-davinci-003\",\n",
    "        prompt=gpt_prompt,\n",
    "        temperature=0,\n",
    "        max_tokens=1000,\n",
    "        #top_p=1.0,\n",
    "        #frequency_penalty=0.0,\n",
    "        #presence_penalty=0.0\n",
    "        )\n",
    "project_narrative = response['choices'][0]['text'].strip()\n",
    "print(\"GPT prompt: \\n %(gpt_prompt)s \\n\\n Project narrative:\\n %(project_narrative)s\" % locals())\n"
   ]
  },
  {
   "cell_type": "markdown",
   "id": "b9b3209a",
   "metadata": {},
   "source": [
    "# Section: Biosketch Personal Statement"
   ]
  },
  {
   "cell_type": "code",
   "execution_count": 31,
   "id": "238fb9c1",
   "metadata": {},
   "outputs": [],
   "source": [
    "#input\n",
    "position = \"Professor of Molecular Biology\"\n",
    "defining_features = [\"Nationally recognized expert\",\"many seminal publications\"]"
   ]
  },
  {
   "cell_type": "code",
   "execution_count": 33,
   "id": "ff48834d",
   "metadata": {},
   "outputs": [],
   "source": [
    "#process inputs\n",
    "defining_features_string = \"The grant applicant has the following relevant experience: \"\n",
    "for feature in defining_features:\n",
    "    defining_features_string += \"\\n\"+feature"
   ]
  },
  {
   "cell_type": "code",
   "execution_count": 35,
   "id": "56e822e0",
   "metadata": {},
   "outputs": [
    {
     "name": "stdout",
     "output_type": "stream",
     "text": [
      "GPT prompt: \n",
      "A grant proposal is entitled: Monokine Gene Expression/Regulation in Lung Injury.  The aims of the project are:\n",
      " Aim 1: Identify the IL12-driven, epigenetically-dependent mechanisms mediated by the lysine methyltransferase MLL1, responsible for the normal differentiation, proliferation, and IFN-γ production by Th-1 cells.\n",
      "Aim 2: To determine if the impairment of T-cell differentiation and reduced IFN-γ production found in post-septic Th1 cells is mechanistically dependent on aberrant MLL1 expression/function.\n",
      "Aim 3: To investigate the IL-12-dependent Th-1 cell differentiation pathway in human post-septic T cells obtained during a one-year clinical follow-up to sepsis by evaluating MLL1 expression, IFN-γ production, and proliferative capacity of T cells, and correlating these results with defined clinical parameters.\n",
      " \n",
      " Write a paragraph that will serve as the personal statement in the biographical section of a grant application.  The applicant is a Professor of Molecular Biology.  The grant applicant has the following relevant experience: \n",
      "Nationally recognized expert\n",
      "many seminal publications.  The tone of the paragraph should be professional.  The paragraph should explain why the applicant is especially suited to receive the grant and do research on this topic. Do not use the grant title in the paragraph.\n",
      "\n",
      " Personal Statement: \n",
      "\n",
      "\n",
      "As a Professor of Molecular Biology, I have dedicated my career to understanding the molecular basis of disease. My research has focused on the role of epigenetic regulation in the development and progression of diseases, particularly in the context of immune system dysfunction. I have been a nationally recognized expert in this field for many years, and have published numerous seminal papers on the subject. My research has been supported by a variety of grants, and I have extensive experience in designing and executing successful research projects. I am confident that my expertise and experience make me an ideal candidate to receive this grant and to conduct research on the role of monokine gene expression and regulation in lung injury.\n"
     ]
    }
   ],
   "source": [
    "# output\n",
    "gpt_prompt = \"A grant proposal is entitled: %(project_title)s.  The aims of the project are:\\n %(aim_string)s \\n \\\n",
    "Write a paragraph that will serve as the personal statement in the biographical section of a grant application.  \\\n",
    "The applicant is a %(position)s.  %(defining_features_string)s.  The tone of the paragraph should be professional.  \\\n",
    "The paragraph should explain why the applicant is especially suited to receive the grant and do research on this topic. \\\n",
    "Do not use the grant title in the paragraph.\" % locals()\n",
    "response = openai.Completion.create(\n",
    "        engine=\"text-davinci-003\",\n",
    "        prompt=gpt_prompt,\n",
    "        temperature=0,\n",
    "        max_tokens=1000,\n",
    "        #top_p=1.0,\n",
    "        #frequency_penalty=0.0,\n",
    "        #presence_penalty=0.0\n",
    "        )\n",
    "personal_statement = response['choices'][0]['text']\n",
    "print(\"GPT prompt: \\n\" + gpt_prompt + \"\\n\\n Personal Statement: \\n\" + personal_statement)\n"
   ]
  },
  {
   "cell_type": "markdown",
   "id": "7b228d97",
   "metadata": {},
   "source": [
    "# Section: Facilities and Other Resources"
   ]
  },
  {
   "cell_type": "code",
   "execution_count": 52,
   "id": "38801257",
   "metadata": {},
   "outputs": [],
   "source": [
    "#inputs\n",
    "lab_list = [\"Dou\",\"Kunkel\"]\n",
    "office_sizes = {\"Dou\": 1200, \"Kunkel\": 1500}\n",
    "equipment_list = ['computers','general lab equipment','20 and -80 C freezers','refrigerators','multiplex proteomics instruments',\n",
    "                 'scintillation counter','high speed refrigerated centrifuges','table top centrifuges']\n"
   ]
  },
  {
   "cell_type": "code",
   "execution_count": 59,
   "id": "a4ac5afc",
   "metadata": {},
   "outputs": [],
   "source": [
    "#process inputs\n",
    "dr_list = [\"Dr. \" + x for x in lab_list]\n",
    "lab_string = \", \".join(dr_list)\n",
    "\n",
    "office_string = \"\"\n",
    "for prof in office_sizes.keys():\n",
    "    office_string += \"Dr. %s has an office space of %d sq. ft.  \" % (prof,office_sizes[prof])\n",
    "\n",
    "equipment_string = \", \".join(equipment_list)"
   ]
  },
  {
   "cell_type": "code",
   "execution_count": 61,
   "id": "24becd5f",
   "metadata": {},
   "outputs": [
    {
     "name": "stdout",
     "output_type": "stream",
     "text": [
      "GPT prompt: \n",
      "Write a paragraph in a professional tone that details the facilities, equipment, and resources available for scientific research.  The following information may be useful: Dr. Dou, Dr. Kunkel have independent research laboratories.  Dr. Dou has an office space of 1200 sq. ft.  Dr. Kunkel has an office space of 1500 sq. ft.   Additionally the following equipment is available: computers, general lab equipment, 20 and -80 C freezers, refrigerators, multiplex proteomics instruments, scintillation counter, high speed refrigerated centrifuges, table top centrifuges.\n",
      "\n",
      "\n",
      " Facilities and Resources: \n",
      "\n",
      "Dr. Dou and Dr. Kunkel have independent research laboratories with office spaces of 1200 sq. ft. and 1500 sq. ft. respectively. Both laboratories are equipped with computers, general lab equipment, 20 and -80 C freezers, refrigerators, multiplex proteomics instruments, scintillation counter, high speed refrigerated centrifuges, and table top centrifuges. These resources provide a comprehensive suite of tools for conducting scientific research.\n"
     ]
    }
   ],
   "source": [
    "# output\n",
    "gpt_prompt = \"Write a paragraph in a professional tone that details the facilities, equipment, and resources available for \\\n",
    "scientific research.  The following information may be useful: %(lab_string)s have independent research laboratories.  %(office_string)s Additionally the following equipment is \\\n",
    "available: %(equipment_string)s.\\n\" % locals()\n",
    "response = openai.Completion.create(\n",
    "        engine=\"text-davinci-003\",\n",
    "        prompt=gpt_prompt,\n",
    "        temperature=0,\n",
    "        max_tokens=1000,\n",
    "        )\n",
    "facilities_resources = response['choices'][0]['text']\n",
    "print(\"GPT prompt: \\n\" + gpt_prompt + \"\\n\\n Facilities and Resources: \\n\" + facilities_resources)\n"
   ]
  },
  {
   "cell_type": "code",
   "execution_count": null,
   "id": "381cdad3",
   "metadata": {},
   "outputs": [],
   "source": []
  },
  {
   "cell_type": "code",
   "execution_count": null,
   "id": "c4dcbc2a",
   "metadata": {},
   "outputs": [],
   "source": []
  }
 ],
 "metadata": {
  "kernelspec": {
   "display_name": "Python 3 (ipykernel)",
   "language": "python",
   "name": "python3"
  },
  "language_info": {
   "codemirror_mode": {
    "name": "ipython",
    "version": 3
   },
   "file_extension": ".py",
   "mimetype": "text/x-python",
   "name": "python",
   "nbconvert_exporter": "python",
   "pygments_lexer": "ipython3",
   "version": "3.9.7"
  }
 },
 "nbformat": 4,
 "nbformat_minor": 5
}
